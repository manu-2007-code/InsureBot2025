{
 "cells": [
  {
   "cell_type": "code",
   "execution_count": 1,
   "id": "147176ab-603e-47a1-8b1e-9b3182cac71b",
   "metadata": {},
   "outputs": [
    {
     "data": {
      "text/plain": [
       "[{'questions': ['hello', 'hi', 'hey'],\n",
       "  'answers': ['Hello! How can I help you today?']},\n",
       " {'questions': ['what is your name', 'who are you'],\n",
       "  'answers': ['I am InsureBot, your virtual assistant.']},\n",
       " {'questions': ['bye', 'goodbye'], 'answers': ['Goodbye! Have a nice day.']}]"
      ]
     },
     "execution_count": 1,
     "metadata": {},
     "output_type": "execute_result"
    }
   ],
   "source": [
    "import json\n",
    "\n",
    "def load_responses(config_file='config.json'):\n",
    "    with open(config_file, 'r') as file:\n",
    "        data = json.load(file)\n",
    "    return data[\"intents\"]\n",
    "\n",
    "intents = load_responses()\n",
    "intents  # to check the data is loading properly"
   ]
  },
  {
   "cell_type": "code",
   "execution_count": 2,
   "id": "91fd0529-5528-4a3a-810f-625d5654c766",
   "metadata": {},
   "outputs": [],
   "source": [
    "def get_response(user_input, intents):\n",
    "    user_input = user_input.lower()\n",
    "    for intent in intents:\n",
    "        for question in intent[\"questions\"]:\n",
    "            if question.lower() in user_input:\n",
    "                return intent[\"answers\"][0]\n",
    "    return \"I'm sorry, I didn't understand that.\""
   ]
  },
  {
   "cell_type": "code",
   "execution_count": 3,
   "id": "d1970ab2-c543-4530-8a3b-1fa4f5cb9d28",
   "metadata": {},
   "outputs": [
    {
     "name": "stdin",
     "output_type": "stream",
     "text": [
      "You:  hi\n"
     ]
    },
    {
     "name": "stdout",
     "output_type": "stream",
     "text": [
      "Bot: Hello! How can I help you today?\n"
     ]
    }
   ],
   "source": [
    "user_input = input(\"You: \")\n",
    "response = get_response(user_input, intents)\n",
    "print(\"Bot:\", response)"
   ]
  },
  {
   "cell_type": "code",
   "execution_count": null,
   "id": "ca571fd9-7fd6-4be9-9c1b-bec32d4b5410",
   "metadata": {},
   "outputs": [],
   "source": []
  }
 ],
 "metadata": {
  "kernelspec": {
   "display_name": "Python 3 (ipykernel)",
   "language": "python",
   "name": "python3"
  },
  "language_info": {
   "codemirror_mode": {
    "name": "ipython",
    "version": 3
   },
   "file_extension": ".py",
   "mimetype": "text/x-python",
   "name": "python",
   "nbconvert_exporter": "python",
   "pygments_lexer": "ipython3",
   "version": "3.12.7"
  }
 },
 "nbformat": 4,
 "nbformat_minor": 5
}
